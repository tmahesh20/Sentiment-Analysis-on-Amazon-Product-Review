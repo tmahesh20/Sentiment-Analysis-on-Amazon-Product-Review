{
 "cells": [
  {
   "cell_type": "code",
   "execution_count": 1,
   "id": "26102369",
   "metadata": {},
   "outputs": [
    {
     "data": {
      "text/html": [
       "<div>\n",
       "<style scoped>\n",
       "    .dataframe tbody tr th:only-of-type {\n",
       "        vertical-align: middle;\n",
       "    }\n",
       "\n",
       "    .dataframe tbody tr th {\n",
       "        vertical-align: top;\n",
       "    }\n",
       "\n",
       "    .dataframe thead th {\n",
       "        text-align: right;\n",
       "    }\n",
       "</style>\n",
       "<table border=\"1\" class=\"dataframe\">\n",
       "  <thead>\n",
       "    <tr style=\"text-align: right;\">\n",
       "      <th></th>\n",
       "      <th>id</th>\n",
       "      <th>name</th>\n",
       "      <th>asins</th>\n",
       "      <th>brand</th>\n",
       "      <th>categories</th>\n",
       "      <th>keys</th>\n",
       "      <th>manufacturer</th>\n",
       "      <th>reviews.date</th>\n",
       "      <th>reviews.dateAdded</th>\n",
       "      <th>reviews.dateSeen</th>\n",
       "      <th>...</th>\n",
       "      <th>reviews.doRecommend</th>\n",
       "      <th>reviews.id</th>\n",
       "      <th>reviews.numHelpful</th>\n",
       "      <th>reviews.rating</th>\n",
       "      <th>reviews.sourceURLs</th>\n",
       "      <th>reviews.text</th>\n",
       "      <th>reviews.title</th>\n",
       "      <th>reviews.userCity</th>\n",
       "      <th>reviews.userProvince</th>\n",
       "      <th>reviews.username</th>\n",
       "    </tr>\n",
       "  </thead>\n",
       "  <tbody>\n",
       "    <tr>\n",
       "      <th>0</th>\n",
       "      <td>AVqkIhwDv8e3D1O-lebb</td>\n",
       "      <td>All-New Fire HD 8 Tablet, 8 HD Display, Wi-Fi,...</td>\n",
       "      <td>B01AHB9CN2</td>\n",
       "      <td>Amazon</td>\n",
       "      <td>Electronics,iPad &amp; Tablets,All Tablets,Fire Ta...</td>\n",
       "      <td>841667104676,amazon/53004484,amazon/b01ahb9cn2...</td>\n",
       "      <td>Amazon</td>\n",
       "      <td>2017-01-13T00:00:00.000Z</td>\n",
       "      <td>2017-07-03T23:33:15Z</td>\n",
       "      <td>2017-06-07T09:04:00.000Z,2017-04-30T00:45:00.000Z</td>\n",
       "      <td>...</td>\n",
       "      <td>True</td>\n",
       "      <td>NaN</td>\n",
       "      <td>0.0</td>\n",
       "      <td>5.0</td>\n",
       "      <td>http://reviews.bestbuy.com/3545/5620406/review...</td>\n",
       "      <td>This product so far has not disappointed. My c...</td>\n",
       "      <td>Kindle</td>\n",
       "      <td>NaN</td>\n",
       "      <td>NaN</td>\n",
       "      <td>Adapter</td>\n",
       "    </tr>\n",
       "    <tr>\n",
       "      <th>1</th>\n",
       "      <td>AVqkIhwDv8e3D1O-lebb</td>\n",
       "      <td>All-New Fire HD 8 Tablet, 8 HD Display, Wi-Fi,...</td>\n",
       "      <td>B01AHB9CN2</td>\n",
       "      <td>Amazon</td>\n",
       "      <td>Electronics,iPad &amp; Tablets,All Tablets,Fire Ta...</td>\n",
       "      <td>841667104676,amazon/53004484,amazon/b01ahb9cn2...</td>\n",
       "      <td>Amazon</td>\n",
       "      <td>2017-01-13T00:00:00.000Z</td>\n",
       "      <td>2017-07-03T23:33:15Z</td>\n",
       "      <td>2017-06-07T09:04:00.000Z,2017-04-30T00:45:00.000Z</td>\n",
       "      <td>...</td>\n",
       "      <td>True</td>\n",
       "      <td>NaN</td>\n",
       "      <td>0.0</td>\n",
       "      <td>5.0</td>\n",
       "      <td>http://reviews.bestbuy.com/3545/5620406/review...</td>\n",
       "      <td>great for beginner or experienced person. Boug...</td>\n",
       "      <td>very fast</td>\n",
       "      <td>NaN</td>\n",
       "      <td>NaN</td>\n",
       "      <td>truman</td>\n",
       "    </tr>\n",
       "  </tbody>\n",
       "</table>\n",
       "<p>2 rows × 21 columns</p>\n",
       "</div>"
      ],
      "text/plain": [
       "                     id                                               name  \\\n",
       "0  AVqkIhwDv8e3D1O-lebb  All-New Fire HD 8 Tablet, 8 HD Display, Wi-Fi,...   \n",
       "1  AVqkIhwDv8e3D1O-lebb  All-New Fire HD 8 Tablet, 8 HD Display, Wi-Fi,...   \n",
       "\n",
       "        asins   brand                                         categories  \\\n",
       "0  B01AHB9CN2  Amazon  Electronics,iPad & Tablets,All Tablets,Fire Ta...   \n",
       "1  B01AHB9CN2  Amazon  Electronics,iPad & Tablets,All Tablets,Fire Ta...   \n",
       "\n",
       "                                                keys manufacturer  \\\n",
       "0  841667104676,amazon/53004484,amazon/b01ahb9cn2...       Amazon   \n",
       "1  841667104676,amazon/53004484,amazon/b01ahb9cn2...       Amazon   \n",
       "\n",
       "               reviews.date     reviews.dateAdded  \\\n",
       "0  2017-01-13T00:00:00.000Z  2017-07-03T23:33:15Z   \n",
       "1  2017-01-13T00:00:00.000Z  2017-07-03T23:33:15Z   \n",
       "\n",
       "                                    reviews.dateSeen  ... reviews.doRecommend  \\\n",
       "0  2017-06-07T09:04:00.000Z,2017-04-30T00:45:00.000Z  ...                True   \n",
       "1  2017-06-07T09:04:00.000Z,2017-04-30T00:45:00.000Z  ...                True   \n",
       "\n",
       "  reviews.id  reviews.numHelpful  reviews.rating  \\\n",
       "0        NaN                 0.0             5.0   \n",
       "1        NaN                 0.0             5.0   \n",
       "\n",
       "                                  reviews.sourceURLs  \\\n",
       "0  http://reviews.bestbuy.com/3545/5620406/review...   \n",
       "1  http://reviews.bestbuy.com/3545/5620406/review...   \n",
       "\n",
       "                                        reviews.text reviews.title  \\\n",
       "0  This product so far has not disappointed. My c...        Kindle   \n",
       "1  great for beginner or experienced person. Boug...     very fast   \n",
       "\n",
       "  reviews.userCity  reviews.userProvince  reviews.username  \n",
       "0              NaN                   NaN           Adapter  \n",
       "1              NaN                   NaN            truman  \n",
       "\n",
       "[2 rows x 21 columns]"
      ]
     },
     "execution_count": 1,
     "metadata": {},
     "output_type": "execute_result"
    }
   ],
   "source": [
    "import pandas as pd\n",
    "import matplotlib.pyplot as plt\n",
    "import numpy as np\n",
    "import seaborn as sns\n",
    "import math\n",
    "import warnings\n",
    "warnings.filterwarnings('ignore') # Hides warning\n",
    "warnings.filterwarnings(\"ignore\", category=DeprecationWarning)\n",
    "warnings.filterwarnings(\"ignore\",category=UserWarning)\n",
    "sns.set_style(\"whitegrid\") # Plotting style\n",
    "%matplotlib inline\n",
    "np.random.seed(7) # seeding random number generator\n",
    "\n",
    "csv = \"data.csv\"\n",
    "df = pd.read_csv(csv)\n",
    "df.head(2)"
   ]
  },
  {
   "cell_type": "code",
   "execution_count": 2,
   "id": "6ad5beed",
   "metadata": {},
   "outputs": [
    {
     "data": {
      "text/html": [
       "<div>\n",
       "<style scoped>\n",
       "    .dataframe tbody tr th:only-of-type {\n",
       "        vertical-align: middle;\n",
       "    }\n",
       "\n",
       "    .dataframe tbody tr th {\n",
       "        vertical-align: top;\n",
       "    }\n",
       "\n",
       "    .dataframe thead th {\n",
       "        text-align: right;\n",
       "    }\n",
       "</style>\n",
       "<table border=\"1\" class=\"dataframe\">\n",
       "  <thead>\n",
       "    <tr style=\"text-align: right;\">\n",
       "      <th></th>\n",
       "      <th>reviews.id</th>\n",
       "      <th>reviews.numHelpful</th>\n",
       "      <th>reviews.rating</th>\n",
       "      <th>reviews.userCity</th>\n",
       "      <th>reviews.userProvince</th>\n",
       "    </tr>\n",
       "  </thead>\n",
       "  <tbody>\n",
       "    <tr>\n",
       "      <th>count</th>\n",
       "      <td>1.0</td>\n",
       "      <td>34131.000000</td>\n",
       "      <td>34627.000000</td>\n",
       "      <td>0.0</td>\n",
       "      <td>0.0</td>\n",
       "    </tr>\n",
       "    <tr>\n",
       "      <th>mean</th>\n",
       "      <td>111372787.0</td>\n",
       "      <td>0.630248</td>\n",
       "      <td>4.584573</td>\n",
       "      <td>NaN</td>\n",
       "      <td>NaN</td>\n",
       "    </tr>\n",
       "    <tr>\n",
       "      <th>std</th>\n",
       "      <td>NaN</td>\n",
       "      <td>13.215775</td>\n",
       "      <td>0.735653</td>\n",
       "      <td>NaN</td>\n",
       "      <td>NaN</td>\n",
       "    </tr>\n",
       "    <tr>\n",
       "      <th>min</th>\n",
       "      <td>111372787.0</td>\n",
       "      <td>0.000000</td>\n",
       "      <td>1.000000</td>\n",
       "      <td>NaN</td>\n",
       "      <td>NaN</td>\n",
       "    </tr>\n",
       "    <tr>\n",
       "      <th>25%</th>\n",
       "      <td>111372787.0</td>\n",
       "      <td>0.000000</td>\n",
       "      <td>4.000000</td>\n",
       "      <td>NaN</td>\n",
       "      <td>NaN</td>\n",
       "    </tr>\n",
       "    <tr>\n",
       "      <th>50%</th>\n",
       "      <td>111372787.0</td>\n",
       "      <td>0.000000</td>\n",
       "      <td>5.000000</td>\n",
       "      <td>NaN</td>\n",
       "      <td>NaN</td>\n",
       "    </tr>\n",
       "    <tr>\n",
       "      <th>75%</th>\n",
       "      <td>111372787.0</td>\n",
       "      <td>0.000000</td>\n",
       "      <td>5.000000</td>\n",
       "      <td>NaN</td>\n",
       "      <td>NaN</td>\n",
       "    </tr>\n",
       "    <tr>\n",
       "      <th>max</th>\n",
       "      <td>111372787.0</td>\n",
       "      <td>814.000000</td>\n",
       "      <td>5.000000</td>\n",
       "      <td>NaN</td>\n",
       "      <td>NaN</td>\n",
       "    </tr>\n",
       "  </tbody>\n",
       "</table>\n",
       "</div>"
      ],
      "text/plain": [
       "        reviews.id  reviews.numHelpful  reviews.rating  reviews.userCity  \\\n",
       "count          1.0        34131.000000    34627.000000               0.0   \n",
       "mean   111372787.0            0.630248        4.584573               NaN   \n",
       "std            NaN           13.215775        0.735653               NaN   \n",
       "min    111372787.0            0.000000        1.000000               NaN   \n",
       "25%    111372787.0            0.000000        4.000000               NaN   \n",
       "50%    111372787.0            0.000000        5.000000               NaN   \n",
       "75%    111372787.0            0.000000        5.000000               NaN   \n",
       "max    111372787.0          814.000000        5.000000               NaN   \n",
       "\n",
       "       reviews.userProvince  \n",
       "count                   0.0  \n",
       "mean                    NaN  \n",
       "std                     NaN  \n",
       "min                     NaN  \n",
       "25%                     NaN  \n",
       "50%                     NaN  \n",
       "75%                     NaN  \n",
       "max                     NaN  "
      ]
     },
     "execution_count": 2,
     "metadata": {},
     "output_type": "execute_result"
    }
   ],
   "source": [
    "data = df.copy()\n",
    "data.describe()"
   ]
  },
  {
   "cell_type": "code",
   "execution_count": 3,
   "id": "0d180038",
   "metadata": {},
   "outputs": [
    {
     "name": "stdout",
     "output_type": "stream",
     "text": [
      "<class 'pandas.core.frame.DataFrame'>\n",
      "RangeIndex: 34660 entries, 0 to 34659\n",
      "Data columns (total 21 columns):\n",
      " #   Column                Non-Null Count  Dtype  \n",
      "---  ------                --------------  -----  \n",
      " 0   id                    34660 non-null  object \n",
      " 1   name                  27900 non-null  object \n",
      " 2   asins                 34658 non-null  object \n",
      " 3   brand                 34660 non-null  object \n",
      " 4   categories            34660 non-null  object \n",
      " 5   keys                  34660 non-null  object \n",
      " 6   manufacturer          34660 non-null  object \n",
      " 7   reviews.date          34621 non-null  object \n",
      " 8   reviews.dateAdded     24039 non-null  object \n",
      " 9   reviews.dateSeen      34660 non-null  object \n",
      " 10  reviews.didPurchase   1 non-null      object \n",
      " 11  reviews.doRecommend   34066 non-null  object \n",
      " 12  reviews.id            1 non-null      float64\n",
      " 13  reviews.numHelpful    34131 non-null  float64\n",
      " 14  reviews.rating        34627 non-null  float64\n",
      " 15  reviews.sourceURLs    34660 non-null  object \n",
      " 16  reviews.text          34659 non-null  object \n",
      " 17  reviews.title         34655 non-null  object \n",
      " 18  reviews.userCity      0 non-null      float64\n",
      " 19  reviews.userProvince  0 non-null      float64\n",
      " 20  reviews.username      34658 non-null  object \n",
      "dtypes: float64(5), object(16)\n",
      "memory usage: 5.6+ MB\n"
     ]
    }
   ],
   "source": [
    "data.info()"
   ]
  },
  {
   "cell_type": "code",
   "execution_count": 4,
   "id": "9165538c",
   "metadata": {},
   "outputs": [
    {
     "data": {
      "text/plain": [
       "array(['B01AHB9CN2', 'B00VINDBJK', 'B005PB2T0S', 'B002Y27P3M',\n",
       "       'B01AHB9CYG', 'B01AHB9C1E', 'B01J2G4VBG', 'B00ZV9PXP2',\n",
       "       'B0083Q04TA', 'B018Y229OU', 'B00REQKWGA', 'B00IOYAM4I',\n",
       "       'B018T075DC', nan, 'B00DU15MU4', 'B018Y225IA', 'B005PB2T2Q',\n",
       "       'B018Y23MNM', 'B00OQVZDJM', 'B00IOY8XWQ', 'B00LO29KXQ',\n",
       "       'B00QJDU3KY', 'B018Y22C2Y', 'B01BFIBRIE', 'B01J4ORNHU',\n",
       "       'B018SZT3BK', 'B00UH4D8G2', 'B018Y22BI4', 'B00TSUGXKE',\n",
       "       'B00L9EPT8O,B01E6AO69U', 'B018Y23P7K', 'B00X4WHP5E', 'B00QFQRELG',\n",
       "       'B00LW9XOJM', 'B00QL1ZN3G', 'B0189XYY0Q', 'B01BH83OOM',\n",
       "       'B00BFJAHF8', 'B00U3FPN4U', 'B002Y27P6Y', 'B006GWO5NE',\n",
       "       'B006GWO5WK'], dtype=object)"
      ]
     },
     "execution_count": 4,
     "metadata": {},
     "output_type": "execute_result"
    }
   ],
   "source": [
    "data[\"asins\"].unique()"
   ]
  },
  {
   "cell_type": "code",
   "execution_count": 5,
   "id": "ea5990e3",
   "metadata": {},
   "outputs": [
    {
     "name": "stdout",
     "output_type": "stream",
     "text": [
      "Number of Unique ASINs: 42\n"
     ]
    }
   ],
   "source": [
    "asins_unique = len(data[\"asins\"].unique())\n",
    "print(\"Number of Unique ASINs: \" + str(asins_unique))"
   ]
  },
  {
   "cell_type": "code",
   "execution_count": 6,
   "id": "502e390c",
   "metadata": {},
   "outputs": [
    {
     "data": {
      "image/png": "[encoded data removed]",
      "text/plain": [
       "<Figure size 1440x1080 with 6 Axes>"
      ]
     },
     "metadata": {
      "needs_background": "light"
     },
     "output_type": "display_data"
    }
   ],
   "source": [
    "data.hist(bins=50, figsize=(20,15)) # builds histogram and set the number of bins and fig size (width, height)\n",
    "plt.show()"
   ]
  },
  {
   "cell_type": "markdown",
   "id": "f605f0f9",
   "metadata": {},
   "source": [
    "# Split into Train/Test"
   ]
  },
  {
   "cell_type": "code",
   "execution_count": 7,
   "id": "e424c51e",
   "metadata": {},
   "outputs": [
    {
     "name": "stdout",
     "output_type": "stream",
     "text": [
      "Before 34660\n",
      "After 34627\n"
     ]
    }
   ],
   "source": [
    "from sklearn.model_selection import StratifiedShuffleSplit\n",
    "print(\"Before {}\".format(len(data)))\n",
    "dataAfter = data.dropna(subset=[\"reviews.rating\"]) # removes all NAN in reviews.rating\n",
    "print(\"After {}\".format(len(dataAfter)))\n",
    "dataAfter[\"reviews.rating\"] = dataAfter[\"reviews.rating\"].astype(int)"
   ]
  },
  {
   "cell_type": "code",
   "execution_count": 8,
   "id": "56e11ed5",
   "metadata": {},
   "outputs": [],
   "source": [
    "split = StratifiedShuffleSplit(n_splits=5, test_size=0.2)\n",
    "for train_index, test_index in split.split(dataAfter, dataAfter[\"reviews.rating\"]): \n",
    "    strat_train = dataAfter.reindex(train_index)\n",
    "    strat_test = dataAfter.reindex(test_index)"
   ]
  },
  {
   "cell_type": "code",
   "execution_count": 9,
   "id": "7b000868",
   "metadata": {},
   "outputs": [
    {
     "data": {
      "text/plain": [
       "27701"
      ]
     },
     "execution_count": 9,
     "metadata": {},
     "output_type": "execute_result"
    }
   ],
   "source": [
    "len(strat_train)"
   ]
  },
  {
   "cell_type": "code",
   "execution_count": 10,
   "id": "1af7a5a6",
   "metadata": {},
   "outputs": [
    {
     "data": {
      "text/plain": [
       "5.0    0.685174\n",
       "4.0    0.247031\n",
       "3.0    0.043500\n",
       "2.0    0.011696\n",
       "1.0    0.011588\n",
       "Name: reviews.rating, dtype: float64"
      ]
     },
     "execution_count": 10,
     "metadata": {},
     "output_type": "execute_result"
    }
   ],
   "source": [
    "strat_train[\"reviews.rating\"].value_counts()/len(strat_train) # value_count() counts all the values based on column"
   ]
  },
  {
   "cell_type": "markdown",
   "id": "77642b27",
   "metadata": {},
   "source": [
    "# Data Exploration (Training Set)"
   ]
  },
  {
   "cell_type": "code",
   "execution_count": 11,
   "id": "6bf2f535",
   "metadata": {},
   "outputs": [
    {
     "data": {
      "text/html": [
       "<div>\n",
       "<style scoped>\n",
       "    .dataframe tbody tr th:only-of-type {\n",
       "        vertical-align: middle;\n",
       "    }\n",
       "\n",
       "    .dataframe tbody tr th {\n",
       "        vertical-align: top;\n",
       "    }\n",
       "\n",
       "    .dataframe thead th {\n",
       "        text-align: right;\n",
       "    }\n",
       "</style>\n",
       "<table border=\"1\" class=\"dataframe\">\n",
       "  <thead>\n",
       "    <tr style=\"text-align: right;\">\n",
       "      <th></th>\n",
       "      <th>id</th>\n",
       "      <th>name</th>\n",
       "      <th>asins</th>\n",
       "      <th>brand</th>\n",
       "      <th>categories</th>\n",
       "      <th>keys</th>\n",
       "      <th>manufacturer</th>\n",
       "      <th>reviews.date</th>\n",
       "      <th>reviews.dateAdded</th>\n",
       "      <th>reviews.dateSeen</th>\n",
       "      <th>...</th>\n",
       "      <th>reviews.doRecommend</th>\n",
       "      <th>reviews.id</th>\n",
       "      <th>reviews.numHelpful</th>\n",
       "      <th>reviews.rating</th>\n",
       "      <th>reviews.sourceURLs</th>\n",
       "      <th>reviews.text</th>\n",
       "      <th>reviews.title</th>\n",
       "      <th>reviews.userCity</th>\n",
       "      <th>reviews.userProvince</th>\n",
       "      <th>reviews.username</th>\n",
       "    </tr>\n",
       "  </thead>\n",
       "  <tbody>\n",
       "    <tr>\n",
       "      <th>4349</th>\n",
       "      <td>AVphgVaX1cnluZ0-DR74</td>\n",
       "      <td>Fire Tablet, 7 Display, Wi-Fi, 8 GB - Includes...</td>\n",
       "      <td>B018Y229OU</td>\n",
       "      <td>Amazon</td>\n",
       "      <td>Fire Tablets,Tablets,Computers &amp; Tablets,All T...</td>\n",
       "      <td>firetablet7displaywifi8gbincludesspecialoffers...</td>\n",
       "      <td>Amazon</td>\n",
       "      <td>2015-11-28T00:00:00.000Z</td>\n",
       "      <td>2017-05-21T04:06:08Z</td>\n",
       "      <td>2017-04-30T00:26:00.000Z,2017-06-07T08:10:00.000Z</td>\n",
       "      <td>...</td>\n",
       "      <td>True</td>\n",
       "      <td>NaN</td>\n",
       "      <td>5.0</td>\n",
       "      <td>5.0</td>\n",
       "      <td>http://reviews.bestbuy.com/3545/5025800/review...</td>\n",
       "      <td>we bought this for my 11 year old daughter and...</td>\n",
       "      <td>great for all ages</td>\n",
       "      <td>NaN</td>\n",
       "      <td>NaN</td>\n",
       "      <td>Mark</td>\n",
       "    </tr>\n",
       "    <tr>\n",
       "      <th>30776</th>\n",
       "      <td>AV1YE_muvKc47QAVgpwE</td>\n",
       "      <td>NaN</td>\n",
       "      <td>B00U3FPN4U</td>\n",
       "      <td>Amazon Fire Tv</td>\n",
       "      <td>Back To College,College Electronics,College Tv...</td>\n",
       "      <td>848719057492,amazonfiretv/51454342,amazonfiret...</td>\n",
       "      <td>Amazon</td>\n",
       "      <td>2017-01-06T00:00:00.000Z</td>\n",
       "      <td>2017-09-20T05:35:55Z</td>\n",
       "      <td>2017-08-25T22:21:42.763Z,2017-08-19T09:26:46.1...</td>\n",
       "      <td>...</td>\n",
       "      <td>True</td>\n",
       "      <td>NaN</td>\n",
       "      <td>0.0</td>\n",
       "      <td>5.0</td>\n",
       "      <td>http://reviews.bestbuy.com/3545/4370400/review...</td>\n",
       "      <td>I have the Roku 4, and new Apple TV, this stre...</td>\n",
       "      <td>Great streaming box</td>\n",
       "      <td>NaN</td>\n",
       "      <td>NaN</td>\n",
       "      <td>Techno</td>\n",
       "    </tr>\n",
       "  </tbody>\n",
       "</table>\n",
       "<p>2 rows × 21 columns</p>\n",
       "</div>"
      ],
      "text/plain": [
       "                         id  \\\n",
       "4349   AVphgVaX1cnluZ0-DR74   \n",
       "30776  AV1YE_muvKc47QAVgpwE   \n",
       "\n",
       "                                                    name       asins  \\\n",
       "4349   Fire Tablet, 7 Display, Wi-Fi, 8 GB - Includes...  B018Y229OU   \n",
       "30776                                                NaN  B00U3FPN4U   \n",
       "\n",
       "                brand                                         categories  \\\n",
       "4349           Amazon  Fire Tablets,Tablets,Computers & Tablets,All T...   \n",
       "30776  Amazon Fire Tv  Back To College,College Electronics,College Tv...   \n",
       "\n",
       "                                                    keys manufacturer  \\\n",
       "4349   firetablet7displaywifi8gbincludesspecialoffers...       Amazon   \n",
       "30776  848719057492,amazonfiretv/51454342,amazonfiret...       Amazon   \n",
       "\n",
       "                   reviews.date     reviews.dateAdded  \\\n",
       "4349   2015-11-28T00:00:00.000Z  2017-05-21T04:06:08Z   \n",
       "30776  2017-01-06T00:00:00.000Z  2017-09-20T05:35:55Z   \n",
       "\n",
       "                                        reviews.dateSeen  ...  \\\n",
       "4349   2017-04-30T00:26:00.000Z,2017-06-07T08:10:00.000Z  ...   \n",
       "30776  2017-08-25T22:21:42.763Z,2017-08-19T09:26:46.1...  ...   \n",
       "\n",
       "      reviews.doRecommend reviews.id  reviews.numHelpful  reviews.rating  \\\n",
       "4349                 True        NaN                 5.0             5.0   \n",
       "30776                True        NaN                 0.0             5.0   \n",
       "\n",
       "                                      reviews.sourceURLs  \\\n",
       "4349   http://reviews.bestbuy.com/3545/5025800/review...   \n",
       "30776  http://reviews.bestbuy.com/3545/4370400/review...   \n",
       "\n",
       "                                            reviews.text        reviews.title  \\\n",
       "4349   we bought this for my 11 year old daughter and...   great for all ages   \n",
       "30776  I have the Roku 4, and new Apple TV, this stre...  Great streaming box   \n",
       "\n",
       "      reviews.userCity  reviews.userProvince  reviews.username  \n",
       "4349               NaN                   NaN              Mark  \n",
       "30776              NaN                   NaN            Techno  \n",
       "\n",
       "[2 rows x 21 columns]"
      ]
     },
     "execution_count": 11,
     "metadata": {},
     "output_type": "execute_result"
    }
   ],
   "source": [
    "reviews = strat_train.copy()\n",
    "reviews.head(2)"
   ]
  },
  {
   "cell_type": "code",
   "execution_count": 12,
   "id": "149c0c84",
   "metadata": {},
   "outputs": [
    {
     "data": {
      "text/plain": [
       "(47, 35)"
      ]
     },
     "execution_count": 12,
     "metadata": {},
     "output_type": "execute_result"
    }
   ],
   "source": [
    "len(reviews[\"name\"].unique()), len(reviews[\"asins\"].unique())"
   ]
  },
  {
   "cell_type": "code",
   "execution_count": 13,
   "id": "65b6c54f",
   "metadata": {},
   "outputs": [
    {
     "name": "stdout",
     "output_type": "stream",
     "text": [
      "<class 'pandas.core.frame.DataFrame'>\n",
      "Int64Index: 27701 entries, 4349 to 29636\n",
      "Data columns (total 21 columns):\n",
      " #   Column                Non-Null Count  Dtype  \n",
      "---  ------                --------------  -----  \n",
      " 0   id                    27673 non-null  object \n",
      " 1   name                  22268 non-null  object \n",
      " 2   asins                 27672 non-null  object \n",
      " 3   brand                 27673 non-null  object \n",
      " 4   categories            27673 non-null  object \n",
      " 5   keys                  27673 non-null  object \n",
      " 6   manufacturer          27673 non-null  object \n",
      " 7   reviews.date          27659 non-null  object \n",
      " 8   reviews.dateAdded     19228 non-null  object \n",
      " 9   reviews.dateSeen      27673 non-null  object \n",
      " 10  reviews.didPurchase   1 non-null      object \n",
      " 11  reviews.doRecommend   27257 non-null  object \n",
      " 12  reviews.id            1 non-null      float64\n",
      " 13  reviews.numHelpful    27304 non-null  float64\n",
      " 14  reviews.rating        27673 non-null  float64\n",
      " 15  reviews.sourceURLs    27673 non-null  object \n",
      " 16  reviews.text          27672 non-null  object \n",
      " 17  reviews.title         27668 non-null  object \n",
      " 18  reviews.userCity      0 non-null      float64\n",
      " 19  reviews.userProvince  0 non-null      float64\n",
      " 20  reviews.username      27671 non-null  object \n",
      "dtypes: float64(5), object(16)\n",
      "memory usage: 4.6+ MB\n"
     ]
    }
   ],
   "source": [
    "reviews.info()"
   ]
  },
  {
   "cell_type": "code",
   "execution_count": 14,
   "id": "7ef3e365",
   "metadata": {},
   "outputs": [
    {
     "data": {
      "text/plain": [
       "asins\n",
       "B005PB2T0S               [Amazon Kindle Lighted Leather Cover,,,\\r\\nAma...\n",
       "B005PB2T2Q               [Fire Kids Edition Tablet, 7 Display, Wi-Fi, 1...\n",
       "B00IOY8XWQ               [Kindle Paperwhite,,,\\r\\nKindle Paperwhite,,,,...\n",
       "B00IOYAM4I               [Brand New Amazon Kindle Fire 16gb 7 Ips Displ...\n",
       "B00L9EPT8O,B01E6AO69U    [Echo (White),,,\\r\\nEcho (White),,,, Amazon Fi...\n",
       "B00LO29KXQ               [Fire Tablet, 7 Display, Wi-Fi, 8 GB - Include...\n",
       "B00LW9XOJM                                                           [nan]\n",
       "B00OQVZDJM               [Amazon Kindle Paperwhite - eBook reader - 4 G...\n",
       "B00QFQRELG                                                           [nan]\n",
       "B00QJDU3KY               [Fire Tablet, 7 Display, Wi-Fi, 8 GB - Include...\n",
       "B00QL1ZN3G                                                           [nan]\n",
       "B00REQKWGA               [Brand New Amazon Kindle Fire 16gb 7 Ips Displ...\n",
       "B00TSUGXKE                            [Echo (White),,,\\r\\nEcho (White),,,]\n",
       "B00U3FPN4U                                                           [nan]\n",
       "B00UH4D8G2                            [Echo (White),,,\\r\\nEcho (White),,,]\n",
       "B00VINDBJK               [Kindle Oasis E-reader with Leather Charging C...\n",
       "B00X4WHP5E                                                           [nan]\n",
       "B00ZV9PXP2               [Fire Tablet, 7 Display, Wi-Fi, 8 GB - Include...\n",
       "B0189XYY0Q                                                           [nan]\n",
       "B018SZT3BK               [Fire Tablet, 7 Display, Wi-Fi, 8 GB - Include...\n",
       "B018T075DC               [Brand New Amazon Kindle Fire 16gb 7 Ips Displ...\n",
       "B018Y225IA               [Brand New Amazon Kindle Fire 16gb 7 Ips Displ...\n",
       "B018Y229OU               [Fire Tablet, 7 Display, Wi-Fi, 8 GB - Include...\n",
       "B018Y22BI4                            [Echo (White),,,\\r\\nEcho (White),,,]\n",
       "B018Y22C2Y               [Fire Tablet, 7 Display, Wi-Fi, 8 GB - Include...\n",
       "B018Y23MNM               [Fire Kids Edition Tablet, 7 Display, Wi-Fi, 1...\n",
       "B018Y23P7K                                                           [nan]\n",
       "B01AHB9C1E               [Amazon 5W USB Official OEM Charger and Power ...\n",
       "B01AHB9CN2               [All-New Fire HD 8 Tablet, 8 HD Display, Wi-Fi...\n",
       "B01AHB9CYG               [All-New Fire HD 8 Tablet, 8 HD Display, Wi-Fi...\n",
       "B01BFIBRIE               [Fire Tablet, 7 Display, Wi-Fi, 8 GB - Include...\n",
       "B01BH83OOM                                                           [nan]\n",
       "B01J2G4VBG               [All-New Kindle E-reader - Black, 6 Glare-Free...\n",
       "B01J4ORNHU               [Fire Tablet, 7 Display, Wi-Fi, 8 GB - Include...\n",
       "Name: name, dtype: object"
      ]
     },
     "execution_count": 14,
     "metadata": {},
     "output_type": "execute_result"
    }
   ],
   "source": [
    "reviews.groupby(\"asins\")[\"name\"].unique()"
   ]
  },
  {
   "cell_type": "code",
   "execution_count": 15,
   "id": "44e1be4c",
   "metadata": {},
   "outputs": [
    {
     "name": "stdout",
     "output_type": "stream",
     "text": [
      "Echo (White),,,\r\n",
      "Echo (White),,,\n",
      "Amazon Fire Tv,,,\r\n",
      "Amazon Fire Tv,,,\n",
      "nan\n",
      "Amazon - Amazon Tap Portable Bluetooth and Wi-Fi Speaker - Black,,,\r\n",
      "Amazon - Amazon Tap Portable Bluetooth and Wi-Fi Speaker - Black,,,\n",
      "Amazon Fire Hd 10 Tablet, Wi-Fi, 16 Gb, Special Offers - Silver Aluminum,,,\r\n",
      "Amazon Fire Hd 10 Tablet, Wi-Fi, 16 Gb, Special Offers - Silver Aluminum,,,\n",
      "Amazon 9W PowerFast Official OEM USB Charger and Power Adapter for Fire Tablets and Kindle eReaders,,,\r\n",
      "Amazon 9W PowerFast Official OEM USB Charger and Power Adapter for Fire Tablets and Kindle eReaders,,,\n",
      "Amazon Kindle Fire 5ft USB to Micro-USB Cable (works with most Micro-USB Tablets),,,\r\n",
      "Amazon Kindle Fire 5ft USB to Micro-USB Cable (works with most Micro-USB Tablets),,,\n",
      "Kindle Dx Leather Cover, Black (fits 9.7 Display, Latest and 2nd Generation Kindle Dxs),,\n",
      "Amazon Fire Hd 6 Standing Protective Case(4th Generation - 2014 Release), Cayenne Red,,,\r\n",
      "Amazon Fire Hd 6 Standing Protective Case(4th Generation - 2014 Release), Cayenne Red,,,\n",
      "Amazon Fire Hd 6 Standing Protective Case(4th Generation - 2014 Release), Cayenne Red,,,\r\n",
      "Amazon 5W USB Official OEM Charger and Power Adapter for Fire Tablets and Kindle eReaders,,,\n",
      "New Amazon Kindle Fire Hd 9w Powerfast Adapter Charger + Micro Usb Angle Cable,,,\r\n",
      "New Amazon Kindle Fire Hd 9w Powerfast Adapter Charger + Micro Usb Angle Cable,,,\n",
      "Amazon 5W USB Official OEM Charger and Power Adapter for Fire Tablets and Kindle eReaders,,,\r\n",
      "Amazon 5W USB Official OEM Charger and Power Adapter for Fire Tablets and Kindle eReaders,,,\n",
      "Echo (White),,,\r\n",
      "Fire Tablet, 7 Display, Wi-Fi, 8 GB - Includes Special Offers, Tangerine\"\n",
      "Echo (Black),,,\r\n",
      "Amazon 9W PowerFast Official OEM USB Charger and Power Adapter for Fire Tablets and Kindle eReaders,,,\n",
      "Echo (Black),,,\r\n",
      "Echo (Black),,,\n",
      "Amazon Fire Tv,,,\r\n",
      "Kindle Dx Leather Cover, Black (fits 9.7 Display, Latest and 2nd Generation Kindle Dxs)\",,\n",
      "New Amazon Kindle Fire Hd 9w Powerfast Adapter Charger + Micro Usb Angle Cable,,,\r\n",
      "\n"
     ]
    }
   ],
   "source": [
    "# Lets see all the different names for this product that have 2 ASINs\n",
    "different_names = reviews[reviews[\"asins\"] == \"B00L9EPT8O,B01E6AO69U\"][\"name\"].unique()\n",
    "for name in different_names:\n",
    "    print(name)"
   ]
  },
  {
   "cell_type": "code",
   "execution_count": 16,
   "id": "b16c2cb6",
   "metadata": {},
   "outputs": [
    {
     "data": {
      "text/plain": [
       "Echo (White),,,\\r\\nEcho (White),,,                                                                                                                                                                                  2318\n",
       "Amazon Fire Tv,,,\\r\\nAmazon Fire Tv,,,                                                                                                                                                                              2029\n",
       "Amazon - Amazon Tap Portable Bluetooth and Wi-Fi Speaker - Black,,,\\r\\nAmazon - Amazon Tap Portable Bluetooth and Wi-Fi Speaker - Black,,,                                                                           259\n",
       "Amazon Fire Hd 10 Tablet, Wi-Fi, 16 Gb, Special Offers - Silver Aluminum,,,\\r\\nAmazon Fire Hd 10 Tablet, Wi-Fi, 16 Gb, Special Offers - Silver Aluminum,,,                                                           106\n",
       "Amazon 9W PowerFast Official OEM USB Charger and Power Adapter for Fire Tablets and Kindle eReaders,,,\\r\\nAmazon 9W PowerFast Official OEM USB Charger and Power Adapter for Fire Tablets and Kindle eReaders,,,      28\n",
       "Kindle Dx Leather Cover, Black (fits 9.7 Display, Latest and 2nd Generation Kindle Dxs),,                                                                                                                              7\n",
       "Amazon Fire Hd 6 Standing Protective Case(4th Generation - 2014 Release), Cayenne Red,,,\\r\\nAmazon Fire Hd 6 Standing Protective Case(4th Generation - 2014 Release), Cayenne Red,,,                                   5\n",
       "New Amazon Kindle Fire Hd 9w Powerfast Adapter Charger + Micro Usb Angle Cable,,,\\r\\nNew Amazon Kindle Fire Hd 9w Powerfast Adapter Charger + Micro Usb Angle Cable,,,                                                 5\n",
       "Amazon 5W USB Official OEM Charger and Power Adapter for Fire Tablets and Kindle eReaders,,,\\r\\nAmazon 5W USB Official OEM Charger and Power Adapter for Fire Tablets and Kindle eReaders,,,                           5\n",
       "Amazon Kindle Fire 5ft USB to Micro-USB Cable (works with most Micro-USB Tablets),,,\\r\\nAmazon Kindle Fire 5ft USB to Micro-USB Cable (works with most Micro-USB Tablets),,,                                           4\n",
       "Echo (Black),,,\\r\\nEcho (Black),,,                                                                                                                                                                                     3\n",
       "Amazon Fire Hd 6 Standing Protective Case(4th Generation - 2014 Release), Cayenne Red,,,\\r\\nAmazon 5W USB Official OEM Charger and Power Adapter for Fire Tablets and Kindle eReaders,,,                               1\n",
       "Echo (White),,,\\r\\nFire Tablet, 7 Display, Wi-Fi, 8 GB - Includes Special Offers, Tangerine\"                                                                                                                           1\n",
       "Echo (Black),,,\\r\\nAmazon 9W PowerFast Official OEM USB Charger and Power Adapter for Fire Tablets and Kindle eReaders,,,                                                                                              1\n",
       "Amazon Fire Tv,,,\\r\\nKindle Dx Leather Cover, Black (fits 9.7 Display, Latest and 2nd Generation Kindle Dxs)\",,                                                                                                        1\n",
       "New Amazon Kindle Fire Hd 9w Powerfast Adapter Charger + Micro Usb Angle Cable,,,\\r\\n                                                                                                                                  1\n",
       "Name: name, dtype: int64"
      ]
     },
     "execution_count": 16,
     "metadata": {},
     "output_type": "execute_result"
    }
   ],
   "source": [
    "reviews[reviews[\"asins\"] == \"B00L9EPT8O,B01E6AO69U\"][\"name\"].value_counts()"
   ]
  },
  {
   "cell_type": "code",
   "execution_count": 17,
   "id": "b0896314",
   "metadata": {},
   "outputs": [
    {
     "data": {
      "image/png": "[encoded data removed]",
      "text/plain": [
       "<Figure size 1152x720 with 2 Axes>"
      ]
     },
     "metadata": {
      "needs_background": "light"
     },
     "output_type": "display_data"
    }
   ],
   "source": [
    "fig = plt.figure(figsize=(16,10))\n",
    "ax1 = plt.subplot(211)\n",
    "ax2 = plt.subplot(212, sharex = ax1)\n",
    "reviews[\"asins\"].value_counts().plot(kind=\"bar\", ax=ax1, title=\"ASIN Frequency\")\n",
    "np.log10(reviews[\"asins\"].value_counts()).plot(kind=\"bar\", ax=ax2, title=\"ASIN Frequency (Log10 Adjusted)\") \n",
    "plt.show()"
   ]
  },
  {
   "cell_type": "code",
   "execution_count": 18,
   "id": "e1f8dbd7",
   "metadata": {},
   "outputs": [
    {
     "data": {
      "text/plain": [
       "4.5841072525566435"
      ]
     },
     "execution_count": 18,
     "metadata": {},
     "output_type": "execute_result"
    }
   ],
   "source": [
    "# Entire training dataset average rating\n",
    "reviews[\"reviews.rating\"].mean()"
   ]
  },
  {
   "cell_type": "code",
   "execution_count": 19,
   "id": "1b06b0d2",
   "metadata": {},
   "outputs": [
    {
     "data": {
      "image/png": "[encoded data removed]",
      "text/plain": [
       "<Figure size 1152x864 with 2 Axes>"
      ]
     },
     "metadata": {
      "needs_background": "light"
     },
     "output_type": "display_data"
    }
   ],
   "source": [
    "asins_count_ix = reviews[\"asins\"].value_counts().index\n",
    "plt.subplots(2,1,figsize=(16,12))\n",
    "plt.subplot(2,1,1)\n",
    "reviews[\"asins\"].value_counts().plot(kind=\"bar\", title=\"ASIN Frequency\")\n",
    "plt.subplot(2,1,2)\n",
    "sns.pointplot(x=\"asins\", y=\"reviews.rating\", order=asins_count_ix, data=reviews)\n",
    "plt.xticks(rotation=90)\n",
    "plt.show()"
   ]
  },
  {
   "cell_type": "code",
   "execution_count": 20,
   "id": "ea5bfda9",
   "metadata": {},
   "outputs": [
    {
     "data": {
      "image/png": "[encoded data removed]",
      "text/plain": [
       "<Figure size 1152x864 with 2 Axes>"
      ]
     },
     "metadata": {
      "needs_background": "light"
     },
     "output_type": "display_data"
    }
   ],
   "source": [
    "plt.subplots (2,1,figsize=(16,12))\n",
    "plt.subplot(2,1,1)\n",
    "reviews[\"asins\"].value_counts().plot(kind=\"bar\", title=\"ASIN Frequency\")\n",
    "plt.subplot(2,1,2)\n",
    "sns.pointplot(x=\"asins\", y=\"reviews.doRecommend\", order=asins_count_ix, data=reviews)\n",
    "plt.xticks(rotation=90)\n",
    "plt.show()"
   ]
  },
  {
   "cell_type": "code",
   "execution_count": 21,
   "id": "c0aebb24",
   "metadata": {},
   "outputs": [
    {
     "data": {
      "text/html": [
       "<div>\n",
       "<style scoped>\n",
       "    .dataframe tbody tr th:only-of-type {\n",
       "        vertical-align: middle;\n",
       "    }\n",
       "\n",
       "    .dataframe tbody tr th {\n",
       "        vertical-align: top;\n",
       "    }\n",
       "\n",
       "    .dataframe thead th {\n",
       "        text-align: right;\n",
       "    }\n",
       "</style>\n",
       "<table border=\"1\" class=\"dataframe\">\n",
       "  <thead>\n",
       "    <tr style=\"text-align: right;\">\n",
       "      <th></th>\n",
       "      <th>reviews.id</th>\n",
       "      <th>reviews.numHelpful</th>\n",
       "      <th>reviews.rating</th>\n",
       "      <th>reviews.userCity</th>\n",
       "      <th>reviews.userProvince</th>\n",
       "    </tr>\n",
       "  </thead>\n",
       "  <tbody>\n",
       "    <tr>\n",
       "      <th>reviews.id</th>\n",
       "      <td>NaN</td>\n",
       "      <td>NaN</td>\n",
       "      <td>NaN</td>\n",
       "      <td>NaN</td>\n",
       "      <td>NaN</td>\n",
       "    </tr>\n",
       "    <tr>\n",
       "      <th>reviews.numHelpful</th>\n",
       "      <td>NaN</td>\n",
       "      <td>1.00000</td>\n",
       "      <td>-0.04372</td>\n",
       "      <td>NaN</td>\n",
       "      <td>NaN</td>\n",
       "    </tr>\n",
       "    <tr>\n",
       "      <th>reviews.rating</th>\n",
       "      <td>NaN</td>\n",
       "      <td>-0.04372</td>\n",
       "      <td>1.00000</td>\n",
       "      <td>NaN</td>\n",
       "      <td>NaN</td>\n",
       "    </tr>\n",
       "    <tr>\n",
       "      <th>reviews.userCity</th>\n",
       "      <td>NaN</td>\n",
       "      <td>NaN</td>\n",
       "      <td>NaN</td>\n",
       "      <td>NaN</td>\n",
       "      <td>NaN</td>\n",
       "    </tr>\n",
       "    <tr>\n",
       "      <th>reviews.userProvince</th>\n",
       "      <td>NaN</td>\n",
       "      <td>NaN</td>\n",
       "      <td>NaN</td>\n",
       "      <td>NaN</td>\n",
       "      <td>NaN</td>\n",
       "    </tr>\n",
       "  </tbody>\n",
       "</table>\n",
       "</div>"
      ],
      "text/plain": [
       "                      reviews.id  reviews.numHelpful  reviews.rating  \\\n",
       "reviews.id                   NaN                 NaN             NaN   \n",
       "reviews.numHelpful           NaN             1.00000        -0.04372   \n",
       "reviews.rating               NaN            -0.04372         1.00000   \n",
       "reviews.userCity             NaN                 NaN             NaN   \n",
       "reviews.userProvince         NaN                 NaN             NaN   \n",
       "\n",
       "                      reviews.userCity  reviews.userProvince  \n",
       "reviews.id                         NaN                   NaN  \n",
       "reviews.numHelpful                 NaN                   NaN  \n",
       "reviews.rating                     NaN                   NaN  \n",
       "reviews.userCity                   NaN                   NaN  \n",
       "reviews.userProvince               NaN                   NaN  "
      ]
     },
     "execution_count": 21,
     "metadata": {},
     "output_type": "execute_result"
    }
   ],
   "source": [
    "corr_matrix = reviews.corr()\n",
    "corr_matrix\n",
    "# Here we can analyze reviews.ratings with asins"
   ]
  },
  {
   "cell_type": "code",
   "execution_count": 22,
   "id": "17879ff0",
   "metadata": {},
   "outputs": [
    {
     "name": "stdout",
     "output_type": "stream",
     "text": [
      "<class 'pandas.core.frame.DataFrame'>\n",
      "Int64Index: 27701 entries, 4349 to 29636\n",
      "Data columns (total 21 columns):\n",
      " #   Column                Non-Null Count  Dtype  \n",
      "---  ------                --------------  -----  \n",
      " 0   id                    27673 non-null  object \n",
      " 1   name                  22268 non-null  object \n",
      " 2   asins                 27672 non-null  object \n",
      " 3   brand                 27673 non-null  object \n",
      " 4   categories            27673 non-null  object \n",
      " 5   keys                  27673 non-null  object \n",
      " 6   manufacturer          27673 non-null  object \n",
      " 7   reviews.date          27659 non-null  object \n",
      " 8   reviews.dateAdded     19228 non-null  object \n",
      " 9   reviews.dateSeen      27673 non-null  object \n",
      " 10  reviews.didPurchase   1 non-null      object \n",
      " 11  reviews.doRecommend   27257 non-null  object \n",
      " 12  reviews.id            1 non-null      float64\n",
      " 13  reviews.numHelpful    27304 non-null  float64\n",
      " 14  reviews.rating        27673 non-null  float64\n",
      " 15  reviews.sourceURLs    27673 non-null  object \n",
      " 16  reviews.text          27672 non-null  object \n",
      " 17  reviews.title         27668 non-null  object \n",
      " 18  reviews.userCity      0 non-null      float64\n",
      " 19  reviews.userProvince  0 non-null      float64\n",
      " 20  reviews.username      27671 non-null  object \n",
      "dtypes: float64(5), object(16)\n",
      "memory usage: 5.7+ MB\n"
     ]
    }
   ],
   "source": [
    "reviews.info()"
   ]
  },
  {
   "cell_type": "code",
   "execution_count": 23,
   "id": "976c8875",
   "metadata": {},
   "outputs": [
    {
     "data": {
      "text/html": [
       "<div>\n",
       "<style scoped>\n",
       "    .dataframe tbody tr th:only-of-type {\n",
       "        vertical-align: middle;\n",
       "    }\n",
       "\n",
       "    .dataframe tbody tr th {\n",
       "        vertical-align: top;\n",
       "    }\n",
       "\n",
       "    .dataframe thead th {\n",
       "        text-align: right;\n",
       "    }\n",
       "</style>\n",
       "<table border=\"1\" class=\"dataframe\">\n",
       "  <thead>\n",
       "    <tr style=\"text-align: right;\">\n",
       "      <th></th>\n",
       "      <th>asins</th>\n",
       "    </tr>\n",
       "  </thead>\n",
       "  <tbody>\n",
       "    <tr>\n",
       "      <th>B018Y229OU</th>\n",
       "      <td>8772</td>\n",
       "    </tr>\n",
       "    <tr>\n",
       "      <th>B00L9EPT8O,B01E6AO69U</th>\n",
       "      <td>5304</td>\n",
       "    </tr>\n",
       "    <tr>\n",
       "      <th>B00U3FPN4U</th>\n",
       "      <td>4076</td>\n",
       "    </tr>\n",
       "    <tr>\n",
       "      <th>B00OQVZDJM</th>\n",
       "      <td>2525</td>\n",
       "    </tr>\n",
       "    <tr>\n",
       "      <th>B01AHB9CN2</th>\n",
       "      <td>2241</td>\n",
       "    </tr>\n",
       "  </tbody>\n",
       "</table>\n",
       "</div>"
      ],
      "text/plain": [
       "                       asins\n",
       "B018Y229OU              8772\n",
       "B00L9EPT8O,B01E6AO69U   5304\n",
       "B00U3FPN4U              4076\n",
       "B00OQVZDJM              2525\n",
       "B01AHB9CN2              2241"
      ]
     },
     "execution_count": 23,
     "metadata": {},
     "output_type": "execute_result"
    }
   ],
   "source": [
    "counts = reviews[\"asins\"].value_counts().to_frame()\n",
    "counts.head()"
   ]
  },
  {
   "cell_type": "code",
   "execution_count": 24,
   "id": "5abfe8d0",
   "metadata": {},
   "outputs": [
    {
     "data": {
      "text/html": [
       "<div>\n",
       "<style scoped>\n",
       "    .dataframe tbody tr th:only-of-type {\n",
       "        vertical-align: middle;\n",
       "    }\n",
       "\n",
       "    .dataframe tbody tr th {\n",
       "        vertical-align: top;\n",
       "    }\n",
       "\n",
       "    .dataframe thead th {\n",
       "        text-align: right;\n",
       "    }\n",
       "</style>\n",
       "<table border=\"1\" class=\"dataframe\">\n",
       "  <thead>\n",
       "    <tr style=\"text-align: right;\">\n",
       "      <th></th>\n",
       "      <th>reviews.rating</th>\n",
       "    </tr>\n",
       "    <tr>\n",
       "      <th>asins</th>\n",
       "      <th></th>\n",
       "    </tr>\n",
       "  </thead>\n",
       "  <tbody>\n",
       "    <tr>\n",
       "      <th>B005PB2T0S</th>\n",
       "      <td>4.000000</td>\n",
       "    </tr>\n",
       "    <tr>\n",
       "      <th>B005PB2T2Q</th>\n",
       "      <td>3.400000</td>\n",
       "    </tr>\n",
       "    <tr>\n",
       "      <th>B00IOY8XWQ</th>\n",
       "      <td>4.731183</td>\n",
       "    </tr>\n",
       "    <tr>\n",
       "      <th>B00IOYAM4I</th>\n",
       "      <td>4.900000</td>\n",
       "    </tr>\n",
       "    <tr>\n",
       "      <th>B00L9EPT8O,B01E6AO69U</th>\n",
       "      <td>4.663462</td>\n",
       "    </tr>\n",
       "  </tbody>\n",
       "</table>\n",
       "</div>"
      ],
      "text/plain": [
       "                       reviews.rating\n",
       "asins                                \n",
       "B005PB2T0S                   4.000000\n",
       "B005PB2T2Q                   3.400000\n",
       "B00IOY8XWQ                   4.731183\n",
       "B00IOYAM4I                   4.900000\n",
       "B00L9EPT8O,B01E6AO69U        4.663462"
      ]
     },
     "execution_count": 24,
     "metadata": {},
     "output_type": "execute_result"
    }
   ],
   "source": [
    "avg_rating = reviews.groupby(\"asins\")[\"reviews.rating\"].mean().to_frame()\n",
    "avg_rating.head()"
   ]
  },
  {
   "cell_type": "code",
   "execution_count": 25,
   "id": "b1c1d3db",
   "metadata": {},
   "outputs": [
    {
     "data": {
      "text/html": [
       "<div>\n",
       "<style scoped>\n",
       "    .dataframe tbody tr th:only-of-type {\n",
       "        vertical-align: middle;\n",
       "    }\n",
       "\n",
       "    .dataframe tbody tr th {\n",
       "        vertical-align: top;\n",
       "    }\n",
       "\n",
       "    .dataframe thead th {\n",
       "        text-align: right;\n",
       "    }\n",
       "</style>\n",
       "<table border=\"1\" class=\"dataframe\">\n",
       "  <thead>\n",
       "    <tr style=\"text-align: right;\">\n",
       "      <th></th>\n",
       "      <th>asins</th>\n",
       "      <th>reviews.rating</th>\n",
       "    </tr>\n",
       "  </thead>\n",
       "  <tbody>\n",
       "    <tr>\n",
       "      <th>B018Y229OU</th>\n",
       "      <td>8772</td>\n",
       "      <td>4.453032</td>\n",
       "    </tr>\n",
       "    <tr>\n",
       "      <th>B00L9EPT8O,B01E6AO69U</th>\n",
       "      <td>5304</td>\n",
       "      <td>4.663462</td>\n",
       "    </tr>\n",
       "    <tr>\n",
       "      <th>B00U3FPN4U</th>\n",
       "      <td>4076</td>\n",
       "      <td>4.709028</td>\n",
       "    </tr>\n",
       "    <tr>\n",
       "      <th>B00OQVZDJM</th>\n",
       "      <td>2525</td>\n",
       "      <td>4.774653</td>\n",
       "    </tr>\n",
       "    <tr>\n",
       "      <th>B01AHB9CN2</th>\n",
       "      <td>2241</td>\n",
       "      <td>4.586792</td>\n",
       "    </tr>\n",
       "    <tr>\n",
       "      <th>B018Y23MNM</th>\n",
       "      <td>1346</td>\n",
       "      <td>4.511887</td>\n",
       "    </tr>\n",
       "    <tr>\n",
       "      <th>B018Y225IA</th>\n",
       "      <td>811</td>\n",
       "      <td>4.498150</td>\n",
       "    </tr>\n",
       "    <tr>\n",
       "      <th>B01BH83OOM</th>\n",
       "      <td>504</td>\n",
       "      <td>4.539683</td>\n",
       "    </tr>\n",
       "    <tr>\n",
       "      <th>B00IOY8XWQ</th>\n",
       "      <td>465</td>\n",
       "      <td>4.731183</td>\n",
       "    </tr>\n",
       "    <tr>\n",
       "      <th>B01J2G4VBG</th>\n",
       "      <td>322</td>\n",
       "      <td>4.422360</td>\n",
       "    </tr>\n",
       "    <tr>\n",
       "      <th>B00TSUGXKE</th>\n",
       "      <td>300</td>\n",
       "      <td>4.456667</td>\n",
       "    </tr>\n",
       "    <tr>\n",
       "      <th>B018SZT3BK</th>\n",
       "      <td>217</td>\n",
       "      <td>4.557604</td>\n",
       "    </tr>\n",
       "    <tr>\n",
       "      <th>B0189XYY0Q</th>\n",
       "      <td>208</td>\n",
       "      <td>4.557692</td>\n",
       "    </tr>\n",
       "    <tr>\n",
       "      <th>B00ZV9PXP2</th>\n",
       "      <td>178</td>\n",
       "      <td>4.516854</td>\n",
       "    </tr>\n",
       "    <tr>\n",
       "      <th>B01AHB9CYG</th>\n",
       "      <td>132</td>\n",
       "      <td>4.628788</td>\n",
       "    </tr>\n",
       "    <tr>\n",
       "      <th>B00QFQRELG</th>\n",
       "      <td>54</td>\n",
       "      <td>4.277778</td>\n",
       "    </tr>\n",
       "    <tr>\n",
       "      <th>B00VINDBJK</th>\n",
       "      <td>48</td>\n",
       "      <td>4.645833</td>\n",
       "    </tr>\n",
       "    <tr>\n",
       "      <th>B00IOYAM4I</th>\n",
       "      <td>40</td>\n",
       "      <td>4.900000</td>\n",
       "    </tr>\n",
       "    <tr>\n",
       "      <th>B01BFIBRIE</th>\n",
       "      <td>20</td>\n",
       "      <td>4.700000</td>\n",
       "    </tr>\n",
       "    <tr>\n",
       "      <th>B00QL1ZN3G</th>\n",
       "      <td>15</td>\n",
       "      <td>3.066667</td>\n",
       "    </tr>\n",
       "    <tr>\n",
       "      <th>B01AHB9C1E</th>\n",
       "      <td>13</td>\n",
       "      <td>4.461538</td>\n",
       "    </tr>\n",
       "    <tr>\n",
       "      <th>B01J4ORNHU</th>\n",
       "      <td>12</td>\n",
       "      <td>4.500000</td>\n",
       "    </tr>\n",
       "    <tr>\n",
       "      <th>B00QJDU3KY</th>\n",
       "      <td>10</td>\n",
       "      <td>4.600000</td>\n",
       "    </tr>\n",
       "    <tr>\n",
       "      <th>B00LW9XOJM</th>\n",
       "      <td>10</td>\n",
       "      <td>4.200000</td>\n",
       "    </tr>\n",
       "    <tr>\n",
       "      <th>B018Y22BI4</th>\n",
       "      <td>9</td>\n",
       "      <td>4.666667</td>\n",
       "    </tr>\n",
       "    <tr>\n",
       "      <th>B00X4WHP5E</th>\n",
       "      <td>7</td>\n",
       "      <td>4.285714</td>\n",
       "    </tr>\n",
       "    <tr>\n",
       "      <th>B00UH4D8G2</th>\n",
       "      <td>7</td>\n",
       "      <td>3.428571</td>\n",
       "    </tr>\n",
       "    <tr>\n",
       "      <th>B018Y22C2Y</th>\n",
       "      <td>5</td>\n",
       "      <td>4.800000</td>\n",
       "    </tr>\n",
       "    <tr>\n",
       "      <th>B005PB2T2Q</th>\n",
       "      <td>5</td>\n",
       "      <td>3.400000</td>\n",
       "    </tr>\n",
       "    <tr>\n",
       "      <th>B005PB2T0S</th>\n",
       "      <td>4</td>\n",
       "      <td>4.000000</td>\n",
       "    </tr>\n",
       "  </tbody>\n",
       "</table>\n",
       "</div>"
      ],
      "text/plain": [
       "                       asins  reviews.rating\n",
       "B018Y229OU              8772        4.453032\n",
       "B00L9EPT8O,B01E6AO69U   5304        4.663462\n",
       "B00U3FPN4U              4076        4.709028\n",
       "B00OQVZDJM              2525        4.774653\n",
       "B01AHB9CN2              2241        4.586792\n",
       "B018Y23MNM              1346        4.511887\n",
       "B018Y225IA               811        4.498150\n",
       "B01BH83OOM               504        4.539683\n",
       "B00IOY8XWQ               465        4.731183\n",
       "B01J2G4VBG               322        4.422360\n",
       "B00TSUGXKE               300        4.456667\n",
       "B018SZT3BK               217        4.557604\n",
       "B0189XYY0Q               208        4.557692\n",
       "B00ZV9PXP2               178        4.516854\n",
       "B01AHB9CYG               132        4.628788\n",
       "B00QFQRELG                54        4.277778\n",
       "B00VINDBJK                48        4.645833\n",
       "B00IOYAM4I                40        4.900000\n",
       "B01BFIBRIE                20        4.700000\n",
       "B00QL1ZN3G                15        3.066667\n",
       "B01AHB9C1E                13        4.461538\n",
       "B01J4ORNHU                12        4.500000\n",
       "B00QJDU3KY                10        4.600000\n",
       "B00LW9XOJM                10        4.200000\n",
       "B018Y22BI4                 9        4.666667\n",
       "B00X4WHP5E                 7        4.285714\n",
       "B00UH4D8G2                 7        3.428571\n",
       "B018Y22C2Y                 5        4.800000\n",
       "B005PB2T2Q                 5        3.400000\n",
       "B005PB2T0S                 4        4.000000"
      ]
     },
     "execution_count": 25,
     "metadata": {},
     "output_type": "execute_result"
    }
   ],
   "source": [
    "table = counts.join(avg_rating)\n",
    "table.head(30)"
   ]
  },
  {
   "cell_type": "code",
   "execution_count": 26,
   "id": "dcdd2045",
   "metadata": {},
   "outputs": [
    {
     "data": {
      "text/html": [
       "<div>\n",
       "<style scoped>\n",
       "    .dataframe tbody tr th:only-of-type {\n",
       "        vertical-align: middle;\n",
       "    }\n",
       "\n",
       "    .dataframe tbody tr th {\n",
       "        vertical-align: top;\n",
       "    }\n",
       "\n",
       "    .dataframe thead th {\n",
       "        text-align: right;\n",
       "    }\n",
       "</style>\n",
       "<table border=\"1\" class=\"dataframe\">\n",
       "  <thead>\n",
       "    <tr style=\"text-align: right;\">\n",
       "      <th></th>\n",
       "      <th>asins</th>\n",
       "      <th>reviews.rating</th>\n",
       "    </tr>\n",
       "  </thead>\n",
       "  <tbody>\n",
       "    <tr>\n",
       "      <th>asins</th>\n",
       "      <td>1.000000</td>\n",
       "      <td>0.099791</td>\n",
       "    </tr>\n",
       "    <tr>\n",
       "      <th>reviews.rating</th>\n",
       "      <td>0.099791</td>\n",
       "      <td>1.000000</td>\n",
       "    </tr>\n",
       "  </tbody>\n",
       "</table>\n",
       "</div>"
      ],
      "text/plain": [
       "                   asins  reviews.rating\n",
       "asins           1.000000        0.099791\n",
       "reviews.rating  0.099791        1.000000"
      ]
     },
     "execution_count": 26,
     "metadata": {},
     "output_type": "execute_result"
    },
    {
     "data": {
      "image/png": "[encoded data removed]",
      "text/plain": [
       "<Figure size 432x288 with 1 Axes>"
      ]
     },
     "metadata": {
      "needs_background": "light"
     },
     "output_type": "display_data"
    }
   ],
   "source": [
    "plt.scatter(\"asins\", \"reviews.rating\", data=table)\n",
    "table.corr()"
   ]
  },
  {
   "cell_type": "markdown",
   "id": "0aa57138",
   "metadata": {},
   "source": [
    "From our analysis in data exploration above between ASINs and reviews.rating, we discovered that there are many ASINs with low occurrence that have high variances, as a result we concluded that theses low occurrence ASINs are not significant in our analysis given the low sample size.\n",
    "\n",
    "Similarly in our correlation analysis between ASINs and reviews.rating, we see that there is almost no correlation which is consistent with our findings."
   ]
  },
  {
   "cell_type": "markdown",
   "id": "72e42862",
   "metadata": {},
   "source": [
    "# Sentiment Analysis"
   ]
  },
  {
   "cell_type": "code",
   "execution_count": 27,
   "id": "e5226430",
   "metadata": {},
   "outputs": [
    {
     "data": {
      "text/plain": [
       "4349     Positive\n",
       "30776    Positive\n",
       "28775     Neutral\n",
       "1136     Positive\n",
       "17803    Positive\n",
       "7336     Positive\n",
       "32638    Positive\n",
       "13995    Positive\n",
       "6728     Negative\n",
       "22009    Positive\n",
       "11047    Positive\n",
       "22754    Positive\n",
       "5578     Positive\n",
       "11673    Positive\n",
       "19168    Positive\n",
       "14903    Positive\n",
       "30843    Positive\n",
       "5440     Positive\n",
       "28940    Positive\n",
       "31258    Positive\n",
       "Name: Sentiment, dtype: object"
      ]
     },
     "execution_count": 27,
     "metadata": {},
     "output_type": "execute_result"
    }
   ],
   "source": [
    "def sentiments(rating):\n",
    "    if (rating == 5) or (rating == 4):\n",
    "        return \"Positive\"\n",
    "    elif rating == 3:\n",
    "        return \"Neutral\"\n",
    "    elif (rating == 2) or (rating == 1):\n",
    "        return \"Negative\"\n",
    "# Add sentiments to the data\n",
    "strat_train[\"Sentiment\"] = strat_train[\"reviews.rating\"].apply(sentiments)\n",
    "strat_test[\"Sentiment\"] = strat_test[\"reviews.rating\"].apply(sentiments)\n",
    "strat_train[\"Sentiment\"][:20]"
   ]
  },
  {
   "cell_type": "code",
   "execution_count": 28,
   "id": "1a99770d",
   "metadata": {},
   "outputs": [
    {
     "name": "stdout",
     "output_type": "stream",
     "text": [
      "27701 6926\n"
     ]
    }
   ],
   "source": [
    "# Prepare data\n",
    "X_train = strat_train[\"reviews.text\"]\n",
    "X_train_targetSentiment = strat_train[\"Sentiment\"]\n",
    "X_test = strat_test[\"reviews.text\"]\n",
    "X_test_targetSentiment = strat_test[\"Sentiment\"]\n",
    "print(len(X_train), len(X_test))"
   ]
  },
  {
   "cell_type": "code",
   "execution_count": 29,
   "id": "e1368acf",
   "metadata": {},
   "outputs": [
    {
     "data": {
      "text/plain": [
       "(27701, 12526)"
      ]
     },
     "execution_count": 29,
     "metadata": {},
     "output_type": "execute_result"
    }
   ],
   "source": [
    "# Replace \"nan\" with space\n",
    "X_train = X_train.fillna(' ')\n",
    "X_test = X_test.fillna(' ')\n",
    "X_train_targetSentiment = X_train_targetSentiment.fillna(' ')\n",
    "X_test_targetSentiment = X_test_targetSentiment.fillna(' ')\n",
    "\n",
    "# Text preprocessing and occurance counting\n",
    "from sklearn.feature_extraction.text import CountVectorizer \n",
    "count_vect = CountVectorizer()\n",
    "X_train_counts = count_vect.fit_transform(X_train) \n",
    "X_train_counts.shape"
   ]
  },
  {
   "cell_type": "code",
   "execution_count": 30,
   "id": "3dd91dfe",
   "metadata": {},
   "outputs": [
    {
     "data": {
      "text/plain": [
       "(27701, 12526)"
      ]
     },
     "execution_count": 30,
     "metadata": {},
     "output_type": "execute_result"
    }
   ],
   "source": [
    "from sklearn.feature_extraction.text import TfidfTransformer\n",
    "tfidf_transformer = TfidfTransformer(use_idf=False)\n",
    "X_train_tfidf = tfidf_transformer.fit_transform(X_train_counts)\n",
    "X_train_tfidf.shape"
   ]
  },
  {
   "cell_type": "markdown",
   "id": "671134c8",
   "metadata": {},
   "source": [
    "# Testing on Models"
   ]
  },
  {
   "cell_type": "markdown",
   "id": "79423dcc",
   "metadata": {},
   "source": [
    "### Naive Bayes Classifier"
   ]
  },
  {
   "cell_type": "code",
   "execution_count": 31,
   "id": "b0366ac0",
   "metadata": {},
   "outputs": [
    {
     "data": {
      "text/plain": [
       "Pipeline(steps=[('vect', CountVectorizer()), ('tfidf', TfidfTransformer()),\n",
       "                ('clf_nominalNB', MultinomialNB())])"
      ]
     },
     "execution_count": 31,
     "metadata": {},
     "output_type": "execute_result"
    }
   ],
   "source": [
    "from sklearn.naive_bayes import MultinomialNB\n",
    "from sklearn.pipeline import Pipeline\n",
    "clf_multiNB_pipe = Pipeline([(\"vect\", CountVectorizer()), (\"tfidf\", TfidfTransformer()), (\"clf_nominalNB\", MultinomialNB())])\n",
    "clf_multiNB_pipe.fit(X_train, X_train_targetSentiment)"
   ]
  },
  {
   "cell_type": "code",
   "execution_count": 32,
   "id": "164b0cdb",
   "metadata": {},
   "outputs": [
    {
     "data": {
      "text/plain": [
       "0.9344498989315623"
      ]
     },
     "execution_count": 32,
     "metadata": {},
     "output_type": "execute_result"
    }
   ],
   "source": [
    "import numpy as np\n",
    "predictedMultiNB = clf_multiNB_pipe.predict(X_test)\n",
    "np.mean(predictedMultiNB == X_test_targetSentiment)"
   ]
  },
  {
   "cell_type": "markdown",
   "id": "88221c8c",
   "metadata": {},
   "source": [
    "Here we see that our Multinominal Naive Bayes Classifier has a 93.45% accuracy level based on the features.\n"
   ]
  },
  {
   "cell_type": "markdown",
   "id": "52d1bc1d",
   "metadata": {},
   "source": [
    "###       Logistic Regression Classifier"
   ]
  },
  {
   "cell_type": "code",
   "execution_count": 33,
   "id": "46dd5ae7",
   "metadata": {},
   "outputs": [
    {
     "data": {
      "text/plain": [
       "0.9392145538550389"
      ]
     },
     "execution_count": 33,
     "metadata": {},
     "output_type": "execute_result"
    }
   ],
   "source": [
    "from sklearn.linear_model import LogisticRegression\n",
    "from sklearn.pipeline import Pipeline\n",
    "clf_logReg_pipe = Pipeline([(\"vect\", CountVectorizer()), (\"tfidf\", TfidfTransformer()), (\"clf_logReg\", LogisticRegression())])\n",
    "clf_logReg_pipe.fit(X_train, X_train_targetSentiment)\n",
    "\n",
    "import numpy as np\n",
    "predictedLogReg = clf_logReg_pipe.predict(X_test)\n",
    "np.mean(predictedLogReg == X_test_targetSentiment)"
   ]
  },
  {
   "cell_type": "markdown",
   "id": "7a312ad6",
   "metadata": {},
   "source": [
    "### Support Vector Machine Classifier"
   ]
  },
  {
   "cell_type": "code",
   "execution_count": 34,
   "id": "368ea7ec",
   "metadata": {},
   "outputs": [
    {
     "data": {
      "text/plain": [
       "0.9393589373375686"
      ]
     },
     "execution_count": 34,
     "metadata": {},
     "output_type": "execute_result"
    }
   ],
   "source": [
    "from sklearn.svm import LinearSVC\n",
    "clf_linearSVC_pipe = Pipeline([(\"vect\", CountVectorizer()), (\"tfidf\", TfidfTransformer()), (\"clf_linearSVC\", LinearSVC())])\n",
    "clf_linearSVC_pipe.fit(X_train, X_train_targetSentiment)\n",
    "\n",
    "predictedLinearSVC = clf_linearSVC_pipe.predict(X_test)\n",
    "np.mean(predictedLinearSVC == X_test_targetSentiment)"
   ]
  },
  {
   "cell_type": "markdown",
   "id": "d343307e",
   "metadata": {},
   "source": [
    "### Decision Tree Classifier"
   ]
  },
  {
   "cell_type": "code",
   "execution_count": 35,
   "id": "034813a6",
   "metadata": {},
   "outputs": [
    {
     "data": {
      "text/plain": [
       "0.9016748483973434"
      ]
     },
     "execution_count": 35,
     "metadata": {},
     "output_type": "execute_result"
    }
   ],
   "source": [
    "from sklearn.tree import DecisionTreeClassifier\n",
    "clf_decisionTree_pipe = Pipeline([(\"vect\", CountVectorizer()), (\"tfidf\", TfidfTransformer()), \n",
    "                                  (\"clf_decisionTree\", DecisionTreeClassifier())])\n",
    "clf_decisionTree_pipe.fit(X_train, X_train_targetSentiment)\n",
    "\n",
    "predictedDecisionTree = clf_decisionTree_pipe.predict(X_test)\n",
    "np.mean(predictedDecisionTree == X_test_targetSentiment)"
   ]
  },
  {
   "cell_type": "markdown",
   "id": "9538319b",
   "metadata": {},
   "source": [
    "### Random Forest Classifier"
   ]
  },
  {
   "cell_type": "code",
   "execution_count": 36,
   "id": "c5527e69",
   "metadata": {},
   "outputs": [
    {
     "data": {
      "text/plain": [
       "0.9350274328616807"
      ]
     },
     "execution_count": 36,
     "metadata": {},
     "output_type": "execute_result"
    }
   ],
   "source": [
    "from sklearn.ensemble import RandomForestClassifier\n",
    "clf_randomForest_pipe = Pipeline([(\"vect\", CountVectorizer()), (\"tfidf\", TfidfTransformer()), (\"clf_randomForest\", RandomForestClassifier())])\n",
    "clf_randomForest_pipe.fit(X_train, X_train_targetSentiment)\n",
    "\n",
    "predictedRandomForest = clf_randomForest_pipe.predict(X_test)\n",
    "np.mean(predictedRandomForest == X_test_targetSentiment)"
   ]
  },
  {
   "cell_type": "markdown",
   "id": "b02b721e",
   "metadata": {},
   "source": [
    "Looks like all the models performed very well (>90%), and we will use the Support Vector Machine Classifier since it has the highest accuracy level at 93.94%.\n",
    "Now we will fine tune the Support Vector Machine model (Linear_SVC) to avoid any potential over-fitting."
   ]
  },
  {
   "cell_type": "markdown",
   "id": "c3d79c18",
   "metadata": {},
   "source": [
    "Results:\n",
    "\n",
    "After testing some arbitrary reviews, it seems that our features is performing correctly with Positive, Neutral, Negative results\n",
    "We also see that after testing with other models, our Support Vector Machine Classifier has shown to 93.93% accuracy level"
   ]
  },
  {
   "cell_type": "markdown",
   "id": "f9154eca",
   "metadata": {},
   "source": [
    "From the analysis above in the classification report, we can see that products with lower reviews are not significant enough to predict these lower rated products are inferior. On the other hand, products that are highly rated are considered superior products, which also performs well and should continue to sell at a high level.\n",
    "\n",
    "As a result, we need to input more data in order to consider the significance of lower rated product, in order to determine which products should be dropped from Amazon's product roster.\n",
    "\n",
    "The good news is that despite the skewed dataset, we were still able to build a robust Sentiment Analysis machine learning system to determine if the reviews are positive or negative. This is possible as the machine learning system was able to learn from all the positive, neutral and negative reviews, and fine tune the algorithm in order to avoid bias sentiments.\n",
    "\n",
    "In conclusion, although we need more data to balance out the lower rated products to consider their significance, however we were still able to successfully associate positive, neutral and negative sentiments for each product in Amazon's Catalog."
   ]
  }
 ],
 "metadata": {
  "kernelspec": {
   "display_name": "Python 3 (ipykernel)",
   "language": "python",
   "name": "python3"
  },
  "language_info": {
   "codemirror_mode": {
    "name": "ipython",
    "version": 3
   },
   "file_extension": ".py",
   "mimetype": "text/x-python",
   "name": "python",
   "nbconvert_exporter": "python",
   "pygments_lexer": "ipython3",
   "version": "3.9.7"
  }
 },
 "nbformat": 4,
 "nbformat_minor": 5
}
